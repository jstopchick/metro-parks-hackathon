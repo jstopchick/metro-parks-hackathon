{
 "cells": [
  {
   "cell_type": "code",
   "execution_count": 1,
   "metadata": {
    "collapsed": true
   },
   "outputs": [],
   "source": [
    "import pandas as pd\n",
    "import numpy as np\n",
    "import seaborn\n",
    "import matplotlib as plt\n",
    "%matplotlib inline"
   ]
  },
  {
   "cell_type": "code",
   "execution_count": 2,
   "metadata": {
    "collapsed": true
   },
   "outputs": [],
   "source": [
    "import requests\n",
    "# Link created from query, but modifying 'html' to 'json'\n",
    "r = requests.get('http://services7.arcgis.com/yUlpDmY4xMAdbBIp/arcgis/rest/services/ParksRocks/FeatureServer/0/query?where=1%3D1&objectIds=&time=&geometry=&geometryType=esriGeometryEnvelope&inSR=&spatialRel=esriSpatialRelIntersects&resultType=none&distance=0.0&units=esriSRUnit_Meter&returnGeodetic=false&outFields=*&returnGeometry=true&multipatchOption=xyFootprint&maxAllowableOffset=&geometryPrecision=&outSR=&returnIdsOnly=false&returnCountOnly=false&returnExtentOnly=false&returnDistinctValues=false&orderByFields=&groupByFieldsForStatistics=&outStatistics=&resultOffset=&resultRecordCount=&returnZ=false&returnM=false&quantizationParameters=&sqlFormat=none&f=json&token=')\n",
    "\n",
    "dfjson = r.json()\n",
    "dfjson.keys()\n",
    "features = dfjson['features']"
   ]
  },
  {
   "cell_type": "markdown",
   "metadata": {},
   "source": [
    "JSON FORMAT\n",
    "\n",
    "{u'attributes': {u'CreationDate': 1492223813720,\n",
    "   u'Creator': u'srn0629_dev',\n",
    "   u'Date': 1492128000000,\n",
    "   u'EditDate': 1492223813720,\n",
    "   u'Editor': u'srn0629_dev',\n",
    "   u'GlobalID': u'f83571f6-2c9e-4d32-843a-2983b7f842ba',\n",
    "   u'HidorFound': u'Hid',\n",
    "   u'OBJECTID': 1,\n",
    "   u'ParkName': u'Alderwood',\n",
    "   u'Quantity': 3,\n",
    "   u'RockersName': u'Savanna'},\n",
    "  u'geometry': {u'x': 1145976.5501281046, u'y': 686346.8414406658}}\n"
   ]
  },
  {
   "cell_type": "code",
   "execution_count": 3,
   "metadata": {
    "collapsed": false
   },
   "outputs": [],
   "source": [
    "for dct in features:\n",
    "    for key, val in dct['attributes'].iteritems():\n",
    "        dct[key] = val\n",
    "    for key, val in dct['geometry'].iteritems():\n",
    "        dct[key] = val\n",
    "    del dct['attributes']\n",
    "    del dct['geometry']"
   ]
  },
  {
   "cell_type": "code",
   "execution_count": 4,
   "metadata": {
    "collapsed": false
   },
   "outputs": [
    {
     "data": {
      "text/plain": [
       "[{u'Date': 1492128000000,\n",
       "  u'GlobalID': u'3dc311c1-2f6c-417e-819a-204d9552ac4d',\n",
       "  u'HidorFound': u'Hid',\n",
       "  u'OBJECTID': 1,\n",
       "  u'ParkName': u'Alderwood',\n",
       "  u'Quantity': 3,\n",
       "  u'RockersName': u'Savanna',\n",
       "  u'x': 1145976.5501281046,\n",
       "  u'y': 686346.8414406658},\n",
       " {u'Date': 1492239600000,\n",
       "  u'GlobalID': u'80cb71c2-a1bb-4201-93b8-b12316043b03',\n",
       "  u'HidorFound': u'Hid',\n",
       "  u'OBJECTID': 2,\n",
       "  u'ParkName': u'Oakland/Madrona',\n",
       "  u'Quantity': 1,\n",
       "  u'RockersName': u'buffy',\n",
       "  u'x': 1145790.1711784978,\n",
       "  u'y': 698453.1300803709}]"
      ]
     },
     "execution_count": 4,
     "metadata": {},
     "output_type": "execute_result"
    }
   ],
   "source": [
    "features[0:2]"
   ]
  },
  {
   "cell_type": "code",
   "execution_count": 5,
   "metadata": {
    "collapsed": false
   },
   "outputs": [
    {
     "data": {
      "text/html": [
       "<div>\n",
       "<table border=\"1\" class=\"dataframe\">\n",
       "  <thead>\n",
       "    <tr style=\"text-align: right;\">\n",
       "      <th></th>\n",
       "      <th>Date</th>\n",
       "      <th>GlobalID</th>\n",
       "      <th>HidorFound</th>\n",
       "      <th>OBJECTID</th>\n",
       "      <th>ParkName</th>\n",
       "      <th>Quantity</th>\n",
       "      <th>RockersName</th>\n",
       "      <th>x</th>\n",
       "      <th>y</th>\n",
       "    </tr>\n",
       "  </thead>\n",
       "  <tbody>\n",
       "    <tr>\n",
       "      <th>0</th>\n",
       "      <td>1.492128e+12</td>\n",
       "      <td>3dc311c1-2f6c-417e-819a-204d9552ac4d</td>\n",
       "      <td>Hid</td>\n",
       "      <td>1</td>\n",
       "      <td>Alderwood</td>\n",
       "      <td>3</td>\n",
       "      <td>Savanna</td>\n",
       "      <td>1.145977e+06</td>\n",
       "      <td>686346.841441</td>\n",
       "    </tr>\n",
       "  </tbody>\n",
       "</table>\n",
       "</div>"
      ],
      "text/plain": [
       "           Date                              GlobalID HidorFound  OBJECTID  \\\n",
       "0  1.492128e+12  3dc311c1-2f6c-417e-819a-204d9552ac4d        Hid         1   \n",
       "\n",
       "    ParkName  Quantity RockersName             x              y  \n",
       "0  Alderwood         3     Savanna  1.145977e+06  686346.841441  "
      ]
     },
     "execution_count": 5,
     "metadata": {},
     "output_type": "execute_result"
    }
   ],
   "source": [
    "#from datetime import datetime\n",
    "df = pd.DataFrame(features)\n",
    "df.head(1)\n",
    "#newDF['CreationDate'] = pd.to_datetime(newDF['CreationDate'])#,infer_datetime_format = True)\n",
    "#df['date'] = pd.to_datetime(df['date'],unit='s')\n",
    "#newDF['Date'] = pd.to_datetime(newDF['Date'])\n",
    "#newDF.head(1)"
   ]
  },
  {
   "cell_type": "code",
   "execution_count": 6,
   "metadata": {
    "collapsed": false
   },
   "outputs": [
    {
     "data": {
      "text/plain": [
       "ParkName\n",
       "Alderwood                   3\n",
       "Garfield                    1\n",
       "Metro Parks Headquarters    1\n",
       "Oakland/Madrona             1\n",
       "Point Defiance              2\n",
       "Ruston Way                  1\n",
       "Titlow (Beach)              1\n",
       "Name: Date, dtype: int64"
      ]
     },
     "execution_count": 6,
     "metadata": {},
     "output_type": "execute_result"
    }
   ],
   "source": [
    "# Number of events per park.\n",
    "df['Date'].groupby(by = df['ParkName']).count()"
   ]
  },
  {
   "cell_type": "code",
   "execution_count": 7,
   "metadata": {
    "collapsed": false
   },
   "outputs": [
    {
     "data": {
      "text/plain": [
       "ParkName\n",
       "Alderwood                   10\n",
       "Garfield                     3\n",
       "Metro Parks Headquarters     3\n",
       "Oakland/Madrona              1\n",
       "Point Defiance               3\n",
       "Ruston Way                   3\n",
       "Titlow (Beach)               1\n",
       "Name: Quantity, dtype: int64"
      ]
     },
     "execution_count": 7,
     "metadata": {},
     "output_type": "execute_result"
    }
   ],
   "source": [
    "# Number of total rocks per park.\n",
    "df['Quantity'].groupby(by = df['ParkName']).sum()"
   ]
  },
  {
   "cell_type": "code",
   "execution_count": 8,
   "metadata": {
    "collapsed": false
   },
   "outputs": [
    {
     "data": {
      "text/plain": [
       "ParkName\n",
       "Alderwood                   9\n",
       "Garfield                    3\n",
       "Metro Parks Headquarters    3\n",
       "Oakland/Madrona             1\n",
       "Point Defiance              2\n",
       "Ruston Way                  3\n",
       "Name: Quantity, dtype: int64"
      ]
     },
     "execution_count": 8,
     "metadata": {},
     "output_type": "execute_result"
    }
   ],
   "source": [
    "# Number of hidden rocks per park.\n",
    "totalrocksbypark = df[df['HidorFound']=='Hid']['Quantity'].groupby(by = df['ParkName']).sum()\n",
    "totalrocksbypark"
   ]
  },
  {
   "cell_type": "code",
   "execution_count": 9,
   "metadata": {
    "collapsed": false
   },
   "outputs": [
    {
     "data": {
      "image/png": "[encoded data removed]",
      "text/plain": [
       "<matplotlib.figure.Figure at 0x1178ced10>"
      ]
     },
     "metadata": {},
     "output_type": "display_data"
    }
   ],
   "source": [
    "parkplot = totalrocksbypark.plot.bar()"
   ]
  },
  {
   "cell_type": "code",
   "execution_count": 10,
   "metadata": {
    "collapsed": false
   },
   "outputs": [],
   "source": [
    "fig = parkplot.get_figure()\n",
    "fig.tight_layout()\n",
    "fig.savefig(\"parkplot.jpg\")"
   ]
  },
  {
   "cell_type": "code",
   "execution_count": 11,
   "metadata": {
    "collapsed": false
   },
   "outputs": [
    {
     "data": {
      "text/html": [
       "<div>\n",
       "<table border=\"1\" class=\"dataframe\">\n",
       "  <thead>\n",
       "    <tr style=\"text-align: right;\">\n",
       "      <th></th>\n",
       "      <th>Date</th>\n",
       "      <th>GlobalID</th>\n",
       "      <th>HidorFound</th>\n",
       "      <th>OBJECTID</th>\n",
       "      <th>ParkName</th>\n",
       "      <th>Quantity</th>\n",
       "      <th>RockersName</th>\n",
       "      <th>x</th>\n",
       "      <th>y</th>\n",
       "    </tr>\n",
       "  </thead>\n",
       "  <tbody>\n",
       "    <tr>\n",
       "      <th>0</th>\n",
       "      <td>1.492128e+12</td>\n",
       "      <td>3dc311c1-2f6c-417e-819a-204d9552ac4d</td>\n",
       "      <td>Hid</td>\n",
       "      <td>1</td>\n",
       "      <td>Alderwood</td>\n",
       "      <td>3</td>\n",
       "      <td>Savanna</td>\n",
       "      <td>1.145977e+06</td>\n",
       "      <td>686346.841441</td>\n",
       "    </tr>\n",
       "    <tr>\n",
       "      <th>1</th>\n",
       "      <td>1.492240e+12</td>\n",
       "      <td>80cb71c2-a1bb-4201-93b8-b12316043b03</td>\n",
       "      <td>Hid</td>\n",
       "      <td>2</td>\n",
       "      <td>Oakland/Madrona</td>\n",
       "      <td>1</td>\n",
       "      <td>buffy</td>\n",
       "      <td>1.145790e+06</td>\n",
       "      <td>698453.130080</td>\n",
       "    </tr>\n",
       "    <tr>\n",
       "      <th>2</th>\n",
       "      <td>1.492276e+12</td>\n",
       "      <td>e5d70dd1-8f32-4665-bae5-a60bc0d55751</td>\n",
       "      <td>Hid</td>\n",
       "      <td>3</td>\n",
       "      <td>Metro Parks Headquarters</td>\n",
       "      <td>3</td>\n",
       "      <td>Savanna</td>\n",
       "      <td>1.156233e+06</td>\n",
       "      <td>707686.890714</td>\n",
       "    </tr>\n",
       "    <tr>\n",
       "      <th>3</th>\n",
       "      <td>1.492240e+12</td>\n",
       "      <td>55c5ff74-0a28-47c5-acc8-265c01ca1318</td>\n",
       "      <td>Hid</td>\n",
       "      <td>4</td>\n",
       "      <td>Point Defiance</td>\n",
       "      <td>2</td>\n",
       "      <td>Jonathan</td>\n",
       "      <td>1.139712e+06</td>\n",
       "      <td>725522.406734</td>\n",
       "    </tr>\n",
       "    <tr>\n",
       "      <th>4</th>\n",
       "      <td>1.491808e+12</td>\n",
       "      <td>629921df-93d8-4063-9826-258af74f748d</td>\n",
       "      <td>Found</td>\n",
       "      <td>5</td>\n",
       "      <td>Point Defiance</td>\n",
       "      <td>1</td>\n",
       "      <td>Luna</td>\n",
       "      <td>1.134824e+06</td>\n",
       "      <td>730377.877963</td>\n",
       "    </tr>\n",
       "  </tbody>\n",
       "</table>\n",
       "</div>"
      ],
      "text/plain": [
       "           Date                              GlobalID HidorFound  OBJECTID  \\\n",
       "0  1.492128e+12  3dc311c1-2f6c-417e-819a-204d9552ac4d        Hid         1   \n",
       "1  1.492240e+12  80cb71c2-a1bb-4201-93b8-b12316043b03        Hid         2   \n",
       "2  1.492276e+12  e5d70dd1-8f32-4665-bae5-a60bc0d55751        Hid         3   \n",
       "3  1.492240e+12  55c5ff74-0a28-47c5-acc8-265c01ca1318        Hid         4   \n",
       "4  1.491808e+12  629921df-93d8-4063-9826-258af74f748d      Found         5   \n",
       "\n",
       "                   ParkName  Quantity RockersName             x              y  \n",
       "0                 Alderwood         3     Savanna  1.145977e+06  686346.841441  \n",
       "1           Oakland/Madrona         1       buffy  1.145790e+06  698453.130080  \n",
       "2  Metro Parks Headquarters         3     Savanna  1.156233e+06  707686.890714  \n",
       "3            Point Defiance         2    Jonathan  1.139712e+06  725522.406734  \n",
       "4            Point Defiance         1        Luna  1.134824e+06  730377.877963  "
      ]
     },
     "execution_count": 11,
     "metadata": {},
     "output_type": "execute_result"
    }
   ],
   "source": [
    "df.head()"
   ]
  },
  {
   "cell_type": "code",
   "execution_count": 12,
   "metadata": {
    "collapsed": false
   },
   "outputs": [
    {
     "data": {
      "text/html": [
       "<div>\n",
       "<table border=\"1\" class=\"dataframe\">\n",
       "  <thead>\n",
       "    <tr style=\"text-align: right;\">\n",
       "      <th></th>\n",
       "      <th>Hid</th>\n",
       "    </tr>\n",
       "    <tr>\n",
       "      <th>ParkName</th>\n",
       "      <th></th>\n",
       "    </tr>\n",
       "  </thead>\n",
       "  <tbody>\n",
       "    <tr>\n",
       "      <th>Alderwood</th>\n",
       "      <td>2</td>\n",
       "    </tr>\n",
       "    <tr>\n",
       "      <th>Garfield</th>\n",
       "      <td>1</td>\n",
       "    </tr>\n",
       "    <tr>\n",
       "      <th>Metro Parks Headquarters</th>\n",
       "      <td>1</td>\n",
       "    </tr>\n",
       "    <tr>\n",
       "      <th>Oakland/Madrona</th>\n",
       "      <td>1</td>\n",
       "    </tr>\n",
       "    <tr>\n",
       "      <th>Point Defiance</th>\n",
       "      <td>1</td>\n",
       "    </tr>\n",
       "  </tbody>\n",
       "</table>\n",
       "</div>"
      ],
      "text/plain": [
       "                          Hid\n",
       "ParkName                     \n",
       "Alderwood                   2\n",
       "Garfield                    1\n",
       "Metro Parks Headquarters    1\n",
       "Oakland/Madrona             1\n",
       "Point Defiance              1"
      ]
     },
     "execution_count": 12,
     "metadata": {},
     "output_type": "execute_result"
    }
   ],
   "source": [
    "# Number of hidden rock events per park.\n",
    "parks_hid = pd.DataFrame(df[df['HidorFound']=='Hid']['Date'].groupby(by = df['ParkName']).count())\n",
    "parks_hid.columns = ['Hid']\n",
    "#df_year.columns = [str(year)]\n",
    "parks_hid.head()"
   ]
  },
  {
   "cell_type": "code",
   "execution_count": 13,
   "metadata": {
    "collapsed": false
   },
   "outputs": [
    {
     "data": {
      "text/html": [
       "<div>\n",
       "<table border=\"1\" class=\"dataframe\">\n",
       "  <thead>\n",
       "    <tr style=\"text-align: right;\">\n",
       "      <th></th>\n",
       "      <th>Found</th>\n",
       "    </tr>\n",
       "    <tr>\n",
       "      <th>ParkName</th>\n",
       "      <th></th>\n",
       "    </tr>\n",
       "  </thead>\n",
       "  <tbody>\n",
       "    <tr>\n",
       "      <th>Alderwood</th>\n",
       "      <td>1</td>\n",
       "    </tr>\n",
       "    <tr>\n",
       "      <th>Point Defiance</th>\n",
       "      <td>1</td>\n",
       "    </tr>\n",
       "    <tr>\n",
       "      <th>Titlow (Beach)</th>\n",
       "      <td>1</td>\n",
       "    </tr>\n",
       "  </tbody>\n",
       "</table>\n",
       "</div>"
      ],
      "text/plain": [
       "                Found\n",
       "ParkName             \n",
       "Alderwood           1\n",
       "Point Defiance      1\n",
       "Titlow (Beach)      1"
      ]
     },
     "execution_count": 13,
     "metadata": {},
     "output_type": "execute_result"
    }
   ],
   "source": [
    "# Number of found rock events per park.\n",
    "parks_found = pd.DataFrame(df[df['HidorFound']=='Found']['Date'].groupby(by = df['ParkName']).count())\n",
    "parks_found.columns = ['Found']\n",
    "#df_year.columns = [str(year)]\n",
    "parks_found.head()"
   ]
  },
  {
   "cell_type": "code",
   "execution_count": 14,
   "metadata": {
    "collapsed": false
   },
   "outputs": [
    {
     "data": {
      "text/html": [
       "<div>\n",
       "<table border=\"1\" class=\"dataframe\">\n",
       "  <thead>\n",
       "    <tr style=\"text-align: right;\">\n",
       "      <th></th>\n",
       "      <th>Hid</th>\n",
       "      <th>Found</th>\n",
       "    </tr>\n",
       "    <tr>\n",
       "      <th>ParkName</th>\n",
       "      <th></th>\n",
       "      <th></th>\n",
       "    </tr>\n",
       "  </thead>\n",
       "  <tbody>\n",
       "    <tr>\n",
       "      <th>Alderwood</th>\n",
       "      <td>2.0</td>\n",
       "      <td>1.0</td>\n",
       "    </tr>\n",
       "    <tr>\n",
       "      <th>Garfield</th>\n",
       "      <td>1.0</td>\n",
       "      <td>0.0</td>\n",
       "    </tr>\n",
       "    <tr>\n",
       "      <th>Metro Parks Headquarters</th>\n",
       "      <td>1.0</td>\n",
       "      <td>0.0</td>\n",
       "    </tr>\n",
       "    <tr>\n",
       "      <th>Oakland/Madrona</th>\n",
       "      <td>1.0</td>\n",
       "      <td>0.0</td>\n",
       "    </tr>\n",
       "    <tr>\n",
       "      <th>Point Defiance</th>\n",
       "      <td>1.0</td>\n",
       "      <td>1.0</td>\n",
       "    </tr>\n",
       "    <tr>\n",
       "      <th>Ruston Way</th>\n",
       "      <td>1.0</td>\n",
       "      <td>0.0</td>\n",
       "    </tr>\n",
       "    <tr>\n",
       "      <th>Titlow (Beach)</th>\n",
       "      <td>0.0</td>\n",
       "      <td>1.0</td>\n",
       "    </tr>\n",
       "  </tbody>\n",
       "</table>\n",
       "</div>"
      ],
      "text/plain": [
       "                          Hid  Found\n",
       "ParkName                            \n",
       "Alderwood                 2.0    1.0\n",
       "Garfield                  1.0    0.0\n",
       "Metro Parks Headquarters  1.0    0.0\n",
       "Oakland/Madrona           1.0    0.0\n",
       "Point Defiance            1.0    1.0\n",
       "Ruston Way                1.0    0.0\n",
       "Titlow (Beach)            0.0    1.0"
      ]
     },
     "execution_count": 14,
     "metadata": {},
     "output_type": "execute_result"
    }
   ],
   "source": [
    "#result = pd.concat([parks_hid, parks_found])\n",
    "#result\n",
    "\n",
    "parks_hid = parks_hid.join(parks_found, how = 'outer')\n",
    "result = parks_hid.fillna(value = 0)\n",
    "result"
   ]
  },
  {
   "cell_type": "code",
   "execution_count": 25,
   "metadata": {
    "collapsed": false
   },
   "outputs": [
    {
     "data": {
      "text/plain": [
       "<matplotlib.axes._subplots.AxesSubplot at 0x12324bf90>"
      ]
     },
     "execution_count": 25,
     "metadata": {},
     "output_type": "execute_result"
    },
    {
     "data": {
      "image/png": "[encoded data removed]",
      "text/plain": [
       "<matplotlib.figure.Figure at 0x122ea5950>"
      ]
     },
     "metadata": {},
     "output_type": "display_data"
    }
   ],
   "source": [
    "stacked_bar = result.ix[:,result.columns].plot.bar(stacked = True, figsize = (16,6), fontsize = 20, legend = True);\n",
    "stacked_bar.legend(fontsize = 20)\n",
    "stacked_bar.set_xlabel(\"Park Name\",fontsize = 20)\n",
    "\n",
    "stacked_bar"
   ]
  },
  {
   "cell_type": "code",
   "execution_count": 16,
   "metadata": {
    "collapsed": true
   },
   "outputs": [],
   "source": [
    "fig = stacked_bar.get_figure()\n",
    "fig.tight_layout()\n",
    "fig.savefig(\"stacked_bar.jpg\")"
   ]
  },
  {
   "cell_type": "code",
   "execution_count": 17,
   "metadata": {
    "collapsed": false
   },
   "outputs": [
    {
     "data": {
      "text/plain": [
       "RockersName\n",
       "Athena           1\n",
       "Fake Namerson    1\n",
       "Ian              1\n",
       "Jonathan         1\n",
       "Jonthan          1\n",
       "Luna             1\n",
       "Mindy            2\n",
       "Savanna          2\n",
       "Unknown          1\n",
       "buffy            1\n",
       "Name: Quantity, dtype: int64"
      ]
     },
     "execution_count": 17,
     "metadata": {},
     "output_type": "execute_result"
    }
   ],
   "source": [
    "# Number of rocks each rocker has hid/found\n",
    "df.groupby(by = df['RockersName'])['Quantity'].count()"
   ]
  },
  {
   "cell_type": "code",
   "execution_count": null,
   "metadata": {
    "collapsed": true
   },
   "outputs": [],
   "source": []
  }
 ],
 "metadata": {
  "kernelspec": {
   "display_name": "Python 2",
   "language": "python",
   "name": "python2"
  },
  "language_info": {
   "codemirror_mode": {
    "name": "ipython",
    "version": 2
   },
   "file_extension": ".py",
   "mimetype": "text/x-python",
   "name": "python",
   "nbconvert_exporter": "python",
   "pygments_lexer": "ipython2",
   "version": "2.7.13"
  }
 },
 "nbformat": 4,
 "nbformat_minor": 0
}
