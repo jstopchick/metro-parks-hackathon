{
 "cells": [
  {
   "cell_type": "code",
   "execution_count": null,
   "metadata": {
    "collapsed": true
   },
   "outputs": [],
   "source": [
    "import pandas as pd\n",
    "import numpy as np\n",
    "import seaborn\n",
    "import matplotlib as plt\n",
    "%matplotlib inline"
   ]
  },
  {
   "cell_type": "code",
   "execution_count": null,
   "metadata": {
    "collapsed": true
   },
   "outputs": [],
   "source": [
    "import requests\n",
    "# Link created from query, but modifying 'html' to 'json'\n",
    "r = requests.get('http://services7.arcgis.com/yUlpDmY4xMAdbBIp/arcgis/rest/services/ParksRocks/FeatureServer/0/query?where=1%3D1&objectIds=&time=&geometry=&geometryType=esriGeometryEnvelope&inSR=&spatialRel=esriSpatialRelIntersects&resultType=none&distance=0.0&units=esriSRUnit_Meter&returnGeodetic=false&outFields=*&returnGeometry=true&multipatchOption=xyFootprint&maxAllowableOffset=&geometryPrecision=&outSR=&returnIdsOnly=false&returnCountOnly=false&returnExtentOnly=false&returnDistinctValues=false&orderByFields=&groupByFieldsForStatistics=&outStatistics=&resultOffset=&resultRecordCount=&returnZ=false&returnM=false&quantizationParameters=&sqlFormat=none&f=json&token=')\n",
    "\n",
    "dfjson = r.json()\n",
    "dfjson.keys()\n",
    "features = dfjson['features']"
   ]
  },
  {
   "cell_type": "markdown",
   "metadata": {},
   "source": [
    "JSON FORMAT\n",
    "\n",
    "{u'attributes': {u'CreationDate': 1492223813720,\n",
    "   u'Creator': u'srn0629_dev',\n",
    "   u'Date': 1492128000000,\n",
    "   u'EditDate': 1492223813720,\n",
    "   u'Editor': u'srn0629_dev',\n",
    "   u'GlobalID': u'f83571f6-2c9e-4d32-843a-2983b7f842ba',\n",
    "   u'HidorFound': u'Hid',\n",
    "   u'OBJECTID': 1,\n",
    "   u'ParkName': u'Alderwood',\n",
    "   u'Quantity': 3,\n",
    "   u'RockersName': u'Savanna'},\n",
    "  u'geometry': {u'x': 1145976.5501281046, u'y': 686346.8414406658}}\n"
   ]
  },
  {
   "cell_type": "code",
   "execution_count": null,
   "metadata": {
    "collapsed": false
   },
   "outputs": [],
   "source": [
    "for dct in features:\n",
    "    for key, val in dct['attributes'].iteritems():\n",
    "        dct[key] = val\n",
    "    for key, val in dct['geometry'].iteritems():\n",
    "        dct[key] = val\n",
    "    del dct['attributes']\n",
    "    del dct['geometry']"
   ]
  },
  {
   "cell_type": "code",
   "execution_count": null,
   "metadata": {
    "collapsed": false
   },
   "outputs": [],
   "source": [
    "features[0:2]"
   ]
  },
  {
   "cell_type": "code",
   "execution_count": null,
   "metadata": {
    "collapsed": false
   },
   "outputs": [],
   "source": [
    "#from datetime import datetime\n",
    "df = pd.DataFrame(features)\n",
    "df.head(1)\n",
    "#newDF['CreationDate'] = pd.to_datetime(newDF['CreationDate'])#,infer_datetime_format = True)\n",
    "#df['date'] = pd.to_datetime(df['date'],unit='s')\n",
    "#newDF['Date'] = pd.to_datetime(newDF['Date'])\n",
    "#newDF.head(1)"
   ]
  },
  {
   "cell_type": "code",
   "execution_count": null,
   "metadata": {
    "collapsed": false
   },
   "outputs": [],
   "source": [
    "# Number of events per park.\n",
    "df['Date'].groupby(by = df['ParkName']).count()"
   ]
  },
  {
   "cell_type": "code",
   "execution_count": null,
   "metadata": {
    "collapsed": false
   },
   "outputs": [],
   "source": [
    "# Number of total rocks per park.\n",
    "df['Quantity'].groupby(by = df['ParkName']).sum()"
   ]
  },
  {
   "cell_type": "code",
   "execution_count": null,
   "metadata": {
    "collapsed": false
   },
   "outputs": [],
   "source": [
    "# Number of hidden rocks per park.\n",
    "totalrocksbypark = df[df['HidorFound']=='Hid']['Quantity'].groupby(by = df['ParkName']).sum()\n",
    "totalrocksbypark"
   ]
  },
  {
   "cell_type": "code",
   "execution_count": null,
   "metadata": {
    "collapsed": false
   },
   "outputs": [],
   "source": [
    "parkplot = totalrocksbypark.plot.bar()"
   ]
  },
  {
   "cell_type": "code",
   "execution_count": null,
   "metadata": {
    "collapsed": false
   },
   "outputs": [],
   "source": [
    "fig = parkplot.get_figure()\n",
    "fig.tight_layout()\n",
    "fig.savefig(\"parkplot.jpg\")"
   ]
  },
  {
   "cell_type": "code",
   "execution_count": null,
   "metadata": {
    "collapsed": false
   },
   "outputs": [],
   "source": [
    "df.head()"
   ]
  },
  {
   "cell_type": "code",
   "execution_count": null,
   "metadata": {
    "collapsed": false
   },
   "outputs": [],
   "source": [
    "# Number of hidden rock events per park.\n",
    "parks_hid = pd.DataFrame(df[df['HidorFound']=='Hid']['Date'].groupby(by = df['ParkName']).count())\n",
    "parks_hid.columns = ['Hide Events']\n",
    "#df_year.columns = [str(year)]\n",
    "parks_hid.head()"
   ]
  },
  {
   "cell_type": "code",
   "execution_count": null,
   "metadata": {
    "collapsed": false
   },
   "outputs": [],
   "source": [
    "# Number of hidden rocks per park.\n",
    "parks_hidtotal = pd.DataFrame(df[df['HidorFound']=='Hid']['Date'].groupby(by = df['ParkName']).sum())\n",
    "parks_hidtotal.columns = ['Hidden Rocks']\n",
    "#df_year.columns = [str(year)]\n",
    "parks_hidtotal.head()"
   ]
  },
  {
   "cell_type": "code",
   "execution_count": null,
   "metadata": {
    "collapsed": false
   },
   "outputs": [],
   "source": [
    "# Number of found rock events per park.\n",
    "parks_found = pd.DataFrame(df[df['HidorFound']=='Found']['Date'].groupby(by = df['ParkName']).count())\n",
    "parks_found.columns = ['Found Events']\n",
    "#df_year.columns = [str(year)]\n",
    "parks_found.head()"
   ]
  },
  {
   "cell_type": "code",
   "execution_count": null,
   "metadata": {
    "collapsed": false
   },
   "outputs": [],
   "source": []
  },
  {
   "cell_type": "code",
   "execution_count": null,
   "metadata": {
    "collapsed": false
   },
   "outputs": [],
   "source": [
    "#result = pd.concat([parks_hid, parks_found])\n",
    "#result\n",
    "\n",
    "parks_hid = parks_hid.join(parks_found, how = 'outer')\n",
    "result = parks_hid.fillna(value = 0)\n",
    "result"
   ]
  },
  {
   "cell_type": "code",
   "execution_count": null,
   "metadata": {
    "collapsed": false
   },
   "outputs": [],
   "source": [
    "stacked_bar = result.ix[:,result.columns].plot.bar(stacked = True, figsize = (16,6), fontsize = 20, legend = True);\n",
    "stacked_bar.legend(fontsize = 20)\n",
    "stacked_bar.set_xlabel(\"Park Name\",fontsize = 20)\n",
    "\n",
    "stacked_bar"
   ]
  },
  {
   "cell_type": "code",
   "execution_count": null,
   "metadata": {
    "collapsed": true
   },
   "outputs": [],
   "source": [
    "fig = stacked_bar.get_figure()\n",
    "fig.tight_layout()\n",
    "fig.savefig(\"stacked_bar.jpg\")"
   ]
  },
  {
   "cell_type": "code",
   "execution_count": null,
   "metadata": {
    "collapsed": false
   },
   "outputs": [],
   "source": [
    "# Number of rocks each rocker has hid/found\n",
    "df.groupby(by = df['RockersName'])['Quantity'].count()"
   ]
  },
  {
   "cell_type": "code",
   "execution_count": null,
   "metadata": {
    "collapsed": true
   },
   "outputs": [],
   "source": []
  }
 ],
 "metadata": {
  "kernelspec": {
   "display_name": "Python 2",
   "language": "python",
   "name": "python2"
  },
  "language_info": {
   "codemirror_mode": {
    "name": "ipython",
    "version": 2
   },
   "file_extension": ".py",
   "mimetype": "text/x-python",
   "name": "python",
   "nbconvert_exporter": "python",
   "pygments_lexer": "ipython2",
   "version": "2.7.13"
  }
 },
 "nbformat": 4,
 "nbformat_minor": 0
}
