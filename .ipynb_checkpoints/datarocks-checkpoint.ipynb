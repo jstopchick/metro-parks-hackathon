{
 "cells": [
  {
   "cell_type": "code",
   "execution_count": 1,
   "metadata": {
    "collapsed": true
   },
   "outputs": [],
   "source": [
    "import pandas as pd\n",
    "import numpy as np\n",
    "%matplotlib inline"
   ]
  },
  {
   "cell_type": "code",
   "execution_count": 3,
   "metadata": {
    "collapsed": true
   },
   "outputs": [],
   "source": [
    "import requests\n",
    "# Link created from query, but modifying 'html' to 'json'\n",
    "r = requests.get('http://services7.arcgis.com/yUlpDmY4xMAdbBIp/arcgis/rest/services/ParksRocks/FeatureServer/0/query?where=1%3D1&objectIds=&time=&geometry=&geometryType=esriGeometryEnvelope&inSR=&spatialRel=esriSpatialRelIntersects&resultType=none&distance=0.0&units=esriSRUnit_Meter&returnGeodetic=false&outFields=*&returnGeometry=true&multipatchOption=xyFootprint&maxAllowableOffset=&geometryPrecision=&outSR=&returnIdsOnly=false&returnCountOnly=false&returnExtentOnly=false&returnDistinctValues=false&orderByFields=&groupByFieldsForStatistics=&outStatistics=&resultOffset=&resultRecordCount=&returnZ=false&returnM=false&quantizationParameters=&sqlFormat=none&f=json&token=')\n",
    "\n",
    "dfjson = r.json()\n",
    "dfjson.keys()\n",
    "features = dfjson['features']"
   ]
  },
  {
   "cell_type": "markdown",
   "metadata": {},
   "source": [
    "JSON FORMAT\n",
    "\n",
    "{u'attributes': {u'CreationDate': 1492223813720,\n",
    "   u'Creator': u'srn0629_dev',\n",
    "   u'Date': 1492128000000,\n",
    "   u'EditDate': 1492223813720,\n",
    "   u'Editor': u'srn0629_dev',\n",
    "   u'GlobalID': u'f83571f6-2c9e-4d32-843a-2983b7f842ba',\n",
    "   u'HidorFound': u'Hid',\n",
    "   u'OBJECTID': 1,\n",
    "   u'ParkName': u'Alderwood',\n",
    "   u'Quantity': 3,\n",
    "   u'RockersName': u'Savanna'},\n",
    "  u'geometry': {u'x': 1145976.5501281046, u'y': 686346.8414406658}}\n"
   ]
  },
  {
   "cell_type": "code",
   "execution_count": 6,
   "metadata": {
    "collapsed": false
   },
   "outputs": [],
   "source": [
    "for dct in features:\n",
    "    for key, val in dct['attributes'].iteritems():\n",
    "        dct[key] = val\n",
    "    for key, val in dct['geometry'].iteritems():\n",
    "        dct[key] = val\n",
    "    del dct['attributes']\n",
    "    del dct['geometry']"
   ]
  },
  {
   "cell_type": "code",
   "execution_count": 15,
   "metadata": {
    "collapsed": false
   },
   "outputs": [
    {
     "data": {
      "text/plain": [
       "[{u'Date': 1492128000000,\n",
       "  u'GlobalID': u'd4517365-51e8-48e7-b425-bd3b8f77b9a2',\n",
       "  u'HidorFound': u'Hid',\n",
       "  u'OBJECTID': 1,\n",
       "  u'ParkName': u'Alderwood',\n",
       "  u'Quantity': 3,\n",
       "  u'RockersName': u'Savanna',\n",
       "  u'x': 1145976.5501281046,\n",
       "  u'y': 686346.8414406658},\n",
       " {u'Date': None,\n",
       "  u'GlobalID': u'03e36329-2e62-4e01-806e-13af055459a8',\n",
       "  u'HidorFound': u'Found',\n",
       "  u'OBJECTID': 2,\n",
       "  u'ParkName': u'Point Defiance',\n",
       "  u'Quantity': 1,\n",
       "  u'RockersName': u'Unknown',\n",
       "  u'x': 1139363.267339261,\n",
       "  u'y': 725457.008755947}]"
      ]
     },
     "execution_count": 15,
     "metadata": {},
     "output_type": "execute_result"
    }
   ],
   "source": [
    "features[0:2]"
   ]
  },
  {
   "cell_type": "code",
   "execution_count": 8,
   "metadata": {
    "collapsed": false
   },
   "outputs": [
    {
     "data": {
      "text/html": [
       "<div>\n",
       "<table border=\"1\" class=\"dataframe\">\n",
       "  <thead>\n",
       "    <tr style=\"text-align: right;\">\n",
       "      <th></th>\n",
       "      <th>Date</th>\n",
       "      <th>GlobalID</th>\n",
       "      <th>HidorFound</th>\n",
       "      <th>OBJECTID</th>\n",
       "      <th>ParkName</th>\n",
       "      <th>Quantity</th>\n",
       "      <th>RockersName</th>\n",
       "      <th>x</th>\n",
       "      <th>y</th>\n",
       "    </tr>\n",
       "  </thead>\n",
       "  <tbody>\n",
       "    <tr>\n",
       "      <th>0</th>\n",
       "      <td>1.492128e+12</td>\n",
       "      <td>d4517365-51e8-48e7-b425-bd3b8f77b9a2</td>\n",
       "      <td>Hid</td>\n",
       "      <td>1</td>\n",
       "      <td>Alderwood</td>\n",
       "      <td>3</td>\n",
       "      <td>Savanna</td>\n",
       "      <td>1.145977e+06</td>\n",
       "      <td>686346.841441</td>\n",
       "    </tr>\n",
       "  </tbody>\n",
       "</table>\n",
       "</div>"
      ],
      "text/plain": [
       "           Date                              GlobalID HidorFound  OBJECTID  \\\n",
       "0  1.492128e+12  d4517365-51e8-48e7-b425-bd3b8f77b9a2        Hid         1   \n",
       "\n",
       "    ParkName  Quantity RockersName             x              y  \n",
       "0  Alderwood         3     Savanna  1.145977e+06  686346.841441  "
      ]
     },
     "execution_count": 8,
     "metadata": {},
     "output_type": "execute_result"
    }
   ],
   "source": [
    "#from datetime import datetime\n",
    "df = pd.DataFrame(features)\n",
    "df.head(1)\n",
    "#newDF['CreationDate'] = pd.to_datetime(newDF['CreationDate'])#,infer_datetime_format = True)\n",
    "#df['date'] = pd.to_datetime(df['date'],unit='s')\n",
    "#newDF['Date'] = pd.to_datetime(newDF['Date'])\n",
    "#newDF.head(1)"
   ]
  },
  {
   "cell_type": "code",
   "execution_count": 9,
   "metadata": {
    "collapsed": false
   },
   "outputs": [
    {
     "data": {
      "text/plain": [
       "ParkName\n",
       "Alderwood         1\n",
       "McCarver          0\n",
       "Point Defiance    1\n",
       "Wright            2\n",
       "Name: Date, dtype: int64"
      ]
     },
     "execution_count": 9,
     "metadata": {},
     "output_type": "execute_result"
    }
   ],
   "source": [
    "# Number of events per park.\n",
    "df['Date'].groupby(by = df['ParkName']).count()"
   ]
  },
  {
   "cell_type": "code",
   "execution_count": 10,
   "metadata": {
    "collapsed": false
   },
   "outputs": [
    {
     "data": {
      "text/plain": [
       "ParkName\n",
       "Alderwood         3\n",
       "McCarver          2\n",
       "Point Defiance    3\n",
       "Wright            2\n",
       "Name: Quantity, dtype: int64"
      ]
     },
     "execution_count": 10,
     "metadata": {},
     "output_type": "execute_result"
    }
   ],
   "source": [
    "# Number of total rocks per park.\n",
    "df['Quantity'].groupby(by = df['ParkName']).sum()"
   ]
  },
  {
   "cell_type": "code",
   "execution_count": 24,
   "metadata": {
    "collapsed": false
   },
   "outputs": [
    {
     "data": {
      "text/plain": [
       "ParkName\n",
       "Alderwood         3\n",
       "McCarver          2\n",
       "Point Defiance    2\n",
       "Wright            1\n",
       "Name: Quantity, dtype: int64"
      ]
     },
     "execution_count": 24,
     "metadata": {},
     "output_type": "execute_result"
    }
   ],
   "source": [
    "# Number of hidden rocks per park.\n",
    "totalrocksbypark = df[df['HidorFound']=='Hid']['Quantity'].groupby(by = df['ParkName']).sum()\n",
    "totalrocksbypark"
   ]
  },
  {
   "cell_type": "code",
   "execution_count": 27,
   "metadata": {
    "collapsed": false
   },
   "outputs": [
    {
     "data": {
      "text/plain": [
       "<matplotlib.axes._subplots.AxesSubplot at 0x11a141a50>"
      ]
     },
     "execution_count": 27,
     "metadata": {},
     "output_type": "execute_result"
    },
    {
     "data": {
      "image/png": "[encoded data removed]",
      "text/plain": [
       "<matplotlib.figure.Figure at 0x11a7df6d0>"
      ]
     },
     "metadata": {},
     "output_type": "display_data"
    }
   ],
   "source": [
    "totalrocksbypark.plot.bar()"
   ]
  },
  {
   "cell_type": "code",
   "execution_count": 12,
   "metadata": {
    "collapsed": false
   },
   "outputs": [
    {
     "data": {
      "text/plain": [
       "ParkName\n",
       "Alderwood         1\n",
       "McCarver          0\n",
       "Point Defiance    1\n",
       "Wright            1\n",
       "Name: Date, dtype: int64"
      ]
     },
     "execution_count": 12,
     "metadata": {},
     "output_type": "execute_result"
    }
   ],
   "source": [
    "# Number of hidden rock events per park.\n",
    "df[df['HidorFound']=='Hid']['Date'].groupby(by = df['ParkName']).count()"
   ]
  },
  {
   "cell_type": "code",
   "execution_count": 13,
   "metadata": {
    "collapsed": false
   },
   "outputs": [
    {
     "data": {
      "text/plain": [
       "ParkName\n",
       "Point Defiance    0\n",
       "Wright            1\n",
       "Name: Date, dtype: int64"
      ]
     },
     "execution_count": 13,
     "metadata": {},
     "output_type": "execute_result"
    }
   ],
   "source": [
    "# Number of found rock events per park.\n",
    "df[df['HidorFound']=='Found']['Date'].groupby(by = df['ParkName']).count()"
   ]
  },
  {
   "cell_type": "code",
   "execution_count": 20,
   "metadata": {
    "collapsed": false
   },
   "outputs": [
    {
     "data": {
      "text/plain": [
       "RockersName\n",
       "Jess         1\n",
       "Lulu         1\n",
       "Luna         1\n",
       "Savanna      1\n",
       "Stopchick    1\n",
       "Unknown      1\n",
       "Name: Quantity, dtype: int64"
      ]
     },
     "execution_count": 20,
     "metadata": {},
     "output_type": "execute_result"
    }
   ],
   "source": [
    "# Number of rocks each rocker has hid/found\n",
    "df.groupby(by = df['RockersName'])['Quantity'].count()"
   ]
  },
  {
   "cell_type": "code",
   "execution_count": null,
   "metadata": {
    "collapsed": true
   },
   "outputs": [],
   "source": []
  }
 ],
 "metadata": {
  "kernelspec": {
   "display_name": "Python 2",
   "language": "python",
   "name": "python2"
  },
  "language_info": {
   "codemirror_mode": {
    "name": "ipython",
    "version": 2
   },
   "file_extension": ".py",
   "mimetype": "text/x-python",
   "name": "python",
   "nbconvert_exporter": "python",
   "pygments_lexer": "ipython2",
   "version": "2.7.13"
  }
 },
 "nbformat": 4,
 "nbformat_minor": 0
}
